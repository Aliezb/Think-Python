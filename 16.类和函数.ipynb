{
 "cells": [
  {
   "cell_type": "code",
   "execution_count": 68,
   "metadata": {
    "collapsed": false
   },
   "outputs": [
    {
     "name": "stdout",
     "output_type": "stream",
     "text": [
      "02时25分50秒\n"
     ]
    }
   ],
   "source": [
    "class Time:\n",
    "    \"\"\"\n",
    "    代表一天的时间\n",
    "    属性：小时、分钟、秒\n",
    "    \"\"\"\n",
    "def print_time(time):\n",
    "    print(\"%.2d时%.2d分%.2d秒\" % (time.hour,time.minute,time.second))\n",
    "now = Time()\n",
    "now.hour = 2\n",
    "now.minute = 25\n",
    "now.second = 50\n",
    "print_time(now)"
   ]
  },
  {
   "cell_type": "code",
   "execution_count": 69,
   "metadata": {
    "collapsed": false
   },
   "outputs": [
    {
     "name": "stdout",
     "output_type": "stream",
     "text": [
      "59时30分10秒\n"
     ]
    }
   ],
   "source": [
    "def increment(time,seconds):\n",
    "    t_second = time.second + seconds\n",
    "    t_minute = time.minute\n",
    "    if t_second >=60:\n",
    "        time.second = t_second % 60\n",
    "        t_minute += t_second / 60\n",
    "    if t_minute >=60:\n",
    "        time.hour = t_minute % 60\n",
    "        time.minute += t_minute /60 \n",
    "increment(now,20000)\n",
    "print_time(now)"
   ]
  },
  {
   "cell_type": "code",
   "execution_count": 28,
   "metadata": {
    "collapsed": false
   },
   "outputs": [
    {
     "name": "stdout",
     "output_type": "stream",
     "text": [
      "4240\n",
      "8480\n",
      "2\n",
      "21\n",
      "20\n"
     ]
    }
   ],
   "source": [
    "#16-1\n",
    "class Time:\n",
    "    \"\"\"\n",
    "    代表一天的时间\n",
    "    属性：小时、分钟、秒\n",
    "    \"\"\"\n",
    "def int_to_time(seconds):\n",
    "    time = Time()\n",
    "    minutes,time.second = divmod(seconds,60)\n",
    "    time.hour,time.minute = divmod(minutes,60)\n",
    "    return time\n",
    "def time_to_int(time):\n",
    "    minutes = time.hour*60 + time.minute\n",
    "    seconds = minutes*60 + time.second\n",
    "    return seconds\n",
    "def mul_time(time,value):\n",
    "    print(time_to_int(time))\n",
    "    seconds = time_to_int(time)*value\n",
    "    print(seconds)\n",
    "    t = int_to_time(seconds)\n",
    "    return t\n",
    "now = Time()\n",
    "now.hour = 1\n",
    "now.minute = 10\n",
    "now.second = 40\n",
    "x = mul_time(now,2)\n",
    "print(x.hour)\n",
    "print(x.minute)\n",
    "print(x.second)"
   ]
  },
  {
   "cell_type": "code",
   "execution_count": 17,
   "metadata": {
    "collapsed": false
   },
   "outputs": [
    {
     "data": {
      "text/plain": [
       "140"
      ]
     },
     "execution_count": 17,
     "metadata": {},
     "output_type": "execute_result"
    }
   ],
   "source": []
  }
 ],
 "metadata": {
  "anaconda-cloud": {},
  "kernelspec": {
   "display_name": "Python [default]",
   "language": "python",
   "name": "python3"
  },
  "language_info": {
   "codemirror_mode": {
    "name": "ipython",
    "version": 3
   },
   "file_extension": ".py",
   "mimetype": "text/x-python",
   "name": "python",
   "nbconvert_exporter": "python",
   "pygments_lexer": "ipython3",
   "version": "3.5.2"
  }
 },
 "nbformat": 4,
 "nbformat_minor": 1
}
