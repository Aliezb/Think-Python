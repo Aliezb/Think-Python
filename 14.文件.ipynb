{
 "cells": [
  {
   "cell_type": "code",
   "execution_count": 4,
   "metadata": {
    "collapsed": false
   },
   "outputs": [],
   "source": [
    "fout = open('output.txt','w')\n",
    "line1 = \"I love you!\"\n",
    "fout.write(line1)\n",
    "line2 = \"I love you,too!\"\n",
    "fout.write(line2)\n",
    "fout.close()"
   ]
  },
  {
   "cell_type": "code",
   "execution_count": 14,
   "metadata": {
    "collapsed": false
   },
   "outputs": [
    {
     "name": "stdout",
     "output_type": "stream",
     "text": [
      "I love 2lala you\n"
     ]
    }
   ],
   "source": [
    "x = 2\n",
    "print('I love %d%s you' % (x, x'lala'))"
   ]
  },
  {
   "cell_type": "code",
   "execution_count": 19,
   "metadata": {
    "collapsed": false
   },
   "outputs": [
    {
     "name": "stdout",
     "output_type": "stream",
     "text": [
      "C:\\资料\\专业\\code\\Think Python\n",
      "True\n",
      "['.ipynb_checkpoints', '10.列表.ipynb', '11.字典.ipynb', '12.元组.ipynb', '13.数据结构的选择.ipynb', '14.文件.ipynb', '4.接口设计.ipynb', '5.条件和递归.ipynb', '6.有返回值的函数.ipynb', '7.迭代.ipynb', '8.字符串.ipynb', '9.文字游戏.ipynb', 'abstract.txt', 'output.txt', 'words.txt']\n"
     ]
    }
   ],
   "source": [
    "import os\n",
    "print(os.getcwd())\n",
    "print(os.path.isdir('C:\\资料\\专业\\code\\Think Python'))\n",
    "print(os.listdir('C:\\资料\\专业\\code\\Think Python'))"
   ]
  },
  {
   "cell_type": "code",
   "execution_count": null,
   "metadata": {
    "collapsed": true
   },
   "outputs": [],
   "source": [
    "shelve()"
   ]
  }
 ],
 "metadata": {
  "anaconda-cloud": {},
  "kernelspec": {
   "display_name": "Python [default]",
   "language": "python",
   "name": "python3"
  },
  "language_info": {
   "codemirror_mode": {
    "name": "ipython",
    "version": 3
   },
   "file_extension": ".py",
   "mimetype": "text/x-python",
   "name": "python",
   "nbconvert_exporter": "python",
   "pygments_lexer": "ipython3",
   "version": "3.5.2"
  }
 },
 "nbformat": 4,
 "nbformat_minor": 1
}
