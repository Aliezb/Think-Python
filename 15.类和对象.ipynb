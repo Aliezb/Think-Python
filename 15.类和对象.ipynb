{
 "cells": [
  {
   "cell_type": "code",
   "execution_count": 6,
   "metadata": {
    "collapsed": false
   },
   "outputs": [
    {
     "name": "stdout",
     "output_type": "stream",
     "text": [
      "5.0\n"
     ]
    }
   ],
   "source": [
    "import math\n",
    "class point:\n",
    "    \"\"\"代表一个2D空间\"\"\"\n",
    "def distance_between_points(p1,p2):\n",
    "    dis_square = (p1.x - p2.x)**2 + (p1.y - p2.y)**2\n",
    "    dis = math.sqrt(dis_square)\n",
    "    return dis\n",
    "blank1 = point()\n",
    "blank1.x = 1\n",
    "blank1.y = 1\n",
    "blank2 = point()\n",
    "blank2.x = 4\n",
    "blank2.y = 5\n",
    "print(distance_between_points(blank1,blank2))"
   ]
  },
  {
   "cell_type": "code",
   "execution_count": 7,
   "metadata": {
    "collapsed": false
   },
   "outputs": [
    {
     "name": "stdout",
     "output_type": "stream",
     "text": [
      "(60, 60)\n"
     ]
    }
   ],
   "source": [
    "class point:\n",
    "    \"\"\"代表一个2D空间\"\"\"\n",
    "class Rectangle:\n",
    "    \"\"\"\n",
    "    代表一个矩形\n",
    "    属性：角的位置、长度、宽度\n",
    "    \"\"\"\n",
    "def move_rectangle(Rectangle,dx,dy):\n",
    "    Rectangle.corner.x += dx   \n",
    "    Rectangle.corner.y += dy\n",
    "    return Rectangle.corner.x,Rectangle.corner.y\n",
    "box = Rectangle()\n",
    "box.length = 200\n",
    "box.width = 150\n",
    "box.corner = point()\n",
    "box.corner.x = 10\n",
    "box.corner.y =10\n",
    "print(move_rectangle(box,50,50))"
   ]
  },
  {
   "cell_type": "code",
   "execution_count": 15,
   "metadata": {
    "collapsed": false
   },
   "outputs": [
    {
     "name": "stdout",
     "output_type": "stream",
     "text": [
      "10 10\n",
      "(60, 60)\n"
     ]
    }
   ],
   "source": [
    "import copy\n",
    "class point:\n",
    "    \"\"\"代表一个2D空间\"\"\"\n",
    "class Rectangle:\n",
    "    \"\"\"\n",
    "    代表一个矩形\n",
    "    属性：角的位置、长度、宽度\n",
    "    \"\"\"\n",
    "def move_rectangle(Rectangle,dx,dy):\n",
    "    Rectangle2 = copy.deepcopy(Rectangle)\n",
    "    Rectangle2.corner.x = Rectangle.corner.x + dx   \n",
    "    Rectangle2.corner.y = Rectangle.corner.y + dy\n",
    "    return Rectangle2.corner.x,Rectangle2.corner.y\n",
    "box = Rectangle()\n",
    "box.length = 200\n",
    "box.width = 150\n",
    "box.corner = point()\n",
    "box.corner.x = 10\n",
    "box.corner.y =10\n",
    "print(box.corner.x,box.corner.y)\n",
    "print(move_rectangle(box,50,50))"
   ]
  },
  {
   "cell_type": "code",
   "execution_count": 36,
   "metadata": {
    "collapsed": false
   },
   "outputs": [],
   "source": [
    "#15-1\n",
    "import math\n",
    "class Point:\n",
    "    \"\"\"代表一个2D空间\"\"\"\n",
    "class Circle:\n",
    "    \"\"\"\n",
    "    代表一个圆\n",
    "    属性：圆心位置、半径\n",
    "    \"\"\"\n",
    "circle = Circle()\n",
    "circle.radius = 50\n",
    "circle.center = Point()\n",
    "circle.center.x = 50\n",
    "circle.center.y = 100"
   ]
  },
  {
   "cell_type": "code",
   "execution_count": 37,
   "metadata": {
    "collapsed": false
   },
   "outputs": [
    {
     "data": {
      "text/plain": [
       "False"
      ]
     },
     "execution_count": 37,
     "metadata": {},
     "output_type": "execute_result"
    }
   ],
   "source": [
    "#15-2\n",
    "def point_in_circle(Circle,Point):\n",
    "    dis_square = (Point.x - circle.center.x)**2 + (Point.x - circle.center.x)**2\n",
    "    dis = math.sqrt(dis_square)\n",
    "    if (dis < Circle.radius):\n",
    "        return True\n",
    "    else :\n",
    "        return False\n",
    "point = Point()\n",
    "point.x = 90\n",
    "point.y = 60\n",
    "point_in_circle(circle,point)"
   ]
  },
  {
   "cell_type": "code",
   "execution_count": 44,
   "metadata": {
    "collapsed": false
   },
   "outputs": [
    {
     "ename": "AttributeError",
     "evalue": "'Piont' object has no attribute 'y'",
     "output_type": "error",
     "traceback": [
      "\u001b[0;31m---------------------------------------------------------------------------\u001b[0m",
      "\u001b[0;31mAttributeError\u001b[0m                            Traceback (most recent call last)",
      "\u001b[0;32m<ipython-input-44-face7ce5c95c>\u001b[0m in \u001b[0;36m<module>\u001b[0;34m()\u001b[0m\n\u001b[1;32m     48\u001b[0m \u001b[0mcircle\u001b[0m\u001b[1;33m.\u001b[0m\u001b[0mcenter\u001b[0m\u001b[1;33m.\u001b[0m\u001b[0mx\u001b[0m \u001b[1;33m=\u001b[0m \u001b[1;36m50\u001b[0m\u001b[1;33m\u001b[0m\u001b[0m\n\u001b[1;32m     49\u001b[0m \u001b[0mcircle\u001b[0m\u001b[1;33m.\u001b[0m\u001b[0mcenter\u001b[0m\u001b[1;33m.\u001b[0m\u001b[0my\u001b[0m \u001b[1;33m=\u001b[0m \u001b[1;36m100\u001b[0m\u001b[1;33m\u001b[0m\u001b[0m\n\u001b[0;32m---> 50\u001b[0;31m \u001b[0mrect_in_circle\u001b[0m\u001b[1;33m(\u001b[0m\u001b[0mcircle\u001b[0m\u001b[1;33m,\u001b[0m\u001b[0mbox\u001b[0m\u001b[1;33m)\u001b[0m\u001b[1;33m\u001b[0m\u001b[0m\n\u001b[0m",
      "\u001b[0;32m<ipython-input-44-face7ce5c95c>\u001b[0m in \u001b[0;36mrect_in_circle\u001b[0;34m(Circle, Rectangle)\u001b[0m\n\u001b[1;32m     23\u001b[0m     \u001b[0mcorner1\u001b[0m \u001b[1;33m=\u001b[0m \u001b[0mRectangle\u001b[0m\u001b[1;33m.\u001b[0m\u001b[0mcorner\u001b[0m\u001b[1;33m\u001b[0m\u001b[0m\n\u001b[1;32m     24\u001b[0m     \u001b[0mcorner2\u001b[0m\u001b[1;33m.\u001b[0m\u001b[0mx\u001b[0m \u001b[1;33m=\u001b[0m \u001b[0mcorner1\u001b[0m\u001b[1;33m.\u001b[0m\u001b[0mx\u001b[0m \u001b[1;33m+\u001b[0m \u001b[0mRectangle\u001b[0m\u001b[1;33m.\u001b[0m\u001b[0mwidth\u001b[0m\u001b[1;33m\u001b[0m\u001b[0m\n\u001b[0;32m---> 25\u001b[0;31m     \u001b[0mcorner2\u001b[0m\u001b[1;33m.\u001b[0m\u001b[0my\u001b[0m \u001b[1;33m=\u001b[0m \u001b[0mcorner2\u001b[0m\u001b[1;33m.\u001b[0m\u001b[0my\u001b[0m\u001b[1;33m\u001b[0m\u001b[0m\n\u001b[0m\u001b[1;32m     26\u001b[0m     \u001b[0mcorner3\u001b[0m\u001b[1;33m.\u001b[0m\u001b[0mx\u001b[0m \u001b[1;33m=\u001b[0m \u001b[0mcorner1\u001b[0m\u001b[1;33m.\u001b[0m\u001b[0mx\u001b[0m\u001b[1;33m\u001b[0m\u001b[0m\n\u001b[1;32m     27\u001b[0m     \u001b[0mcorner3\u001b[0m\u001b[1;33m.\u001b[0m\u001b[0my\u001b[0m \u001b[1;33m=\u001b[0m \u001b[0mcorner2\u001b[0m\u001b[1;33m.\u001b[0m\u001b[0my\u001b[0m \u001b[1;33m+\u001b[0m \u001b[0mRectangle\u001b[0m\u001b[1;33m.\u001b[0m\u001b[0mlength\u001b[0m\u001b[1;33m\u001b[0m\u001b[0m\n",
      "\u001b[0;31mAttributeError\u001b[0m: 'Piont' object has no attribute 'y'"
     ]
    }
   ],
   "source": [
    "#15-3\n",
    "import math\n",
    "class Point:\n",
    "    \"\"\"代表一个2D空间\"\"\"\n",
    "class Circle:\n",
    "    \"\"\"\n",
    "    代表一个圆\n",
    "    属性：圆心位置、半径\n",
    "    \"\"\"\n",
    "class Rectangle:\n",
    "    \"\"\"\n",
    "    代表一个矩形\n",
    "    属性：角的位置、长度、宽度\n",
    "    \"\"\"\n",
    "def point_in_circle(Circle,Point):\n",
    "    dis_square = (Point.x - circle.center.x)**2 + (Point.x - circle.center.x)**2\n",
    "    dis = math.sqrt(dis_square)\n",
    "    if (dis < Circle.radius):\n",
    "        return True\n",
    "    else :\n",
    "        return False\n",
    "def rect_in_circle(Circle,Rectangle):\n",
    "    corner1 = Rectangle.corner\n",
    "    corner2.x = corner1.x + Rectangle.width\n",
    "    corner2.y = corner2.y\n",
    "    corner3.x = corner1.x\n",
    "    corner3.y = corner2.y + Rectangle.length\n",
    "    corner4.x = corner1.x + Rectangle.width\n",
    "    corner4.y = corner2.y + Rectangle.length\n",
    "    \n",
    "\n",
    "        \n",
    "box = Rectangle()\n",
    "box.length = 200\n",
    "box.width = 150\n",
    "box.corner = Point()\n",
    "box.corner.x = 10\n",
    "box.corner.y =10\n",
    "\n",
    "corner1 = Piont()\n",
    "corner2 = Piont()\n",
    "corner3 = Piont()\n",
    "corner4 = Piont()\n",
    "\n",
    "circle = Circle()\n",
    "circle.radius = 50\n",
    "circle.center = Point()\n",
    "circle.center.x = 50\n",
    "circle.center.y = 100\n",
    "rect_in_circle(circle,box)"
   ]
  },
  {
   "cell_type": "code",
   "execution_count": null,
   "metadata": {
    "collapsed": true
   },
   "outputs": [],
   "source": []
  }
 ],
 "metadata": {
  "kernelspec": {
   "display_name": "Python [default]",
   "language": "python",
   "name": "python3"
  },
  "language_info": {
   "codemirror_mode": {
    "name": "ipython",
    "version": 3
   },
   "file_extension": ".py",
   "mimetype": "text/x-python",
   "name": "python",
   "nbconvert_exporter": "python",
   "pygments_lexer": "ipython3",
   "version": "3.5.2"
  }
 },
 "nbformat": 4,
 "nbformat_minor": 1
}
