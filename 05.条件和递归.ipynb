{
 "cells": [
  {
   "cell_type": "code",
   "execution_count": 1,
   "metadata": {
    "collapsed": false
   },
   "outputs": [
    {
     "name": "stdout",
     "output_type": "stream",
     "text": [
      "2\n"
     ]
    }
   ],
   "source": [
    "minutes = 125\n",
    "print(minutes//60)"
   ]
  },
  {
   "cell_type": "code",
   "execution_count": 2,
   "metadata": {
    "collapsed": false
   },
   "outputs": [
    {
     "name": "stdout",
     "output_type": "stream",
     "text": [
      "5\n"
     ]
    }
   ],
   "source": [
    "minutes = 125\n",
    "print(minutes%60)"
   ]
  },
  {
   "cell_type": "code",
   "execution_count": 9,
   "metadata": {
    "collapsed": false
   },
   "outputs": [
    {
     "name": "stdout",
     "output_type": "stream",
     "text": [
      "hello\n",
      "hello\n",
      "blastoff\n"
     ]
    }
   ],
   "source": [
    "def print_n(s,n) :\n",
    "    if n<=0 :\n",
    "        print('blastoff')\n",
    "    else :\n",
    "        print(s)\n",
    "        print_n(s,n-1)\n",
    "print_n('hello',2)"
   ]
  },
  {
   "cell_type": "code",
   "execution_count": 16,
   "metadata": {
    "collapsed": false
   },
   "outputs": [
    {
     "name": "stdout",
     "output_type": "stream",
     "text": [
      "2\n",
      "22\n"
     ]
    }
   ],
   "source": [
    "grades1 = input()\n",
    "#注意input的输入是字符串，如果要进行数字运算，需要类型转换\n",
    "grades2 =grades1*2\n",
    "print(grades2)"
   ]
  },
  {
   "cell_type": "code",
   "execution_count": 22,
   "metadata": {
    "collapsed": false
   },
   "outputs": [
    {
     "name": "stdout",
     "output_type": "stream",
     "text": [
      "1\n",
      "1\n",
      "2\n"
     ]
    }
   ],
   "source": [
    "grades1 = input()\n",
    "grades2 = input()\n",
    "#要计算数字的和，必须先把字符转化成数字\n",
    "grades_1 = int(grades1)\n",
    "grades_2 = int(grades2) \n",
    "average =grades_1+grades_2\n",
    "print(average)"
   ]
  },
  {
   "cell_type": "code",
   "execution_count": 23,
   "metadata": {
    "collapsed": false
   },
   "outputs": [
    {
     "name": "stdout",
     "output_type": "stream",
     "text": [
      "No\n"
     ]
    }
   ],
   "source": [
    "#5-2-1\n",
    "def check_fermat(a,b,c,n):\n",
    "    if (a**n+b**n)==c**n and n>2:\n",
    "        print('Fermat is wrong!')\n",
    "    else:\n",
    "        print('No')\n",
    "check_fermat(1,2,3,4)"
   ]
  },
  {
   "cell_type": "code",
   "execution_count": 27,
   "metadata": {
    "collapsed": false
   },
   "outputs": [
    {
     "name": "stdout",
     "output_type": "stream",
     "text": [
      "请输入a\n",
      "3\n",
      "请输入b\n",
      "4\n",
      "请输入c\n",
      "5\n",
      "请输入n\n",
      "6\n",
      "No\n"
     ]
    }
   ],
   "source": [
    "#5-2-2\n",
    "def check_fermat(a,b,c,n):\n",
    "    if (a**n+b**n)==c**n and n>2:\n",
    "        print('Fermat is wrong!')\n",
    "    else:\n",
    "        print('No')\n",
    "print('请输入a')\n",
    "a=int(input())\n",
    "print('请输入b')\n",
    "b=int(input())\n",
    "print('请输入c')\n",
    "c=int(input())\n",
    "print('请输入n')\n",
    "n=int(input())\n",
    "check_fermat(a,b,c,n)"
   ]
  },
  {
   "cell_type": "code",
   "execution_count": 3,
   "metadata": {
    "collapsed": false
   },
   "outputs": [
    {
     "name": "stdout",
     "output_type": "stream",
     "text": [
      "no\n"
     ]
    }
   ],
   "source": [
    "#5-3-1\n",
    "def is_triangle(a,b,c):\n",
    "    if a<=b+c and b<=a+c and c<= a+b :\n",
    "        print('yes')\n",
    "    else :\n",
    "        print('no')\n",
    "is_triangle(4,4,9)"
   ]
  },
  {
   "cell_type": "code",
   "execution_count": 8,
   "metadata": {
    "collapsed": false
   },
   "outputs": [
    {
     "name": "stdout",
     "output_type": "stream",
     "text": [
      "请输入a\n",
      "2\n",
      "请输入b\n",
      "5\n",
      "请输入c\n",
      "6\n",
      "yes\n"
     ]
    }
   ],
   "source": [
    "#5-3-2\n",
    "def is_triangle(a,b,c):\n",
    "    if a<=b+c and b<=a+c and c<= a+b :\n",
    "        print('yes')\n",
    "    else :\n",
    "        print('no')\n",
    "def is_prime():\n",
    "    print('请输入a')\n",
    "    a=int(input())\n",
    "    print('请输入b')\n",
    "    b=int(input())\n",
    "    print('请输入c')\n",
    "    c=int(input())\n",
    "    is_triangle(a,b,c)\n",
    "is_prime()"
   ]
  },
  {
   "cell_type": "code",
   "execution_count": 23,
   "metadata": {
    "collapsed": false
   },
   "outputs": [
    {
     "name": "stdout",
     "output_type": "stream",
     "text": [
      "<turtle.Turtle object at 0x000001A5B855EAC8>\n"
     ]
    }
   ],
   "source": [
    "#5-6\n",
    "import turtle\n",
    "bob=turtle.Turtle()\n",
    "def koch(t,length):\n",
    "    if length>=3 :\n",
    "        koch(t,length/3)\n",
    "        t.lt(60)\n",
    "        koch(t,length/3)\n",
    "        t.rt(120)\n",
    "        koch(t,length/3)\n",
    "        t.lt(60)\n",
    "        koch(t,length/3)\n",
    "    else :\n",
    "        t.fd(length)\n",
    "koch(bob,300)\n",
    "print(bob)\n",
    "turtle.mainloop()"
   ]
  },
  {
   "cell_type": "code",
   "execution_count": null,
   "metadata": {
    "collapsed": true
   },
   "outputs": [],
   "source": []
  }
 ],
 "metadata": {
  "anaconda-cloud": {},
  "kernelspec": {
   "display_name": "Python [default]",
   "language": "python",
   "name": "python3"
  },
  "language_info": {
   "codemirror_mode": {
    "name": "ipython",
    "version": 3
   },
   "file_extension": ".py",
   "mimetype": "text/x-python",
   "name": "python",
   "nbconvert_exporter": "python",
   "pygments_lexer": "ipython3",
   "version": "3.5.2"
  }
 },
 "nbformat": 4,
 "nbformat_minor": 1
}
