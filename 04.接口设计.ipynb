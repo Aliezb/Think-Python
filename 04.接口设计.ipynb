{
 "cells": [
  {
   "cell_type": "code",
   "execution_count": 12,
   "metadata": {
    "collapsed": false
   },
   "outputs": [
    {
     "name": "stdout",
     "output_type": "stream",
     "text": [
      "<turtle.Turtle object at 0x000001D4D360BF60>\n"
     ]
    }
   ],
   "source": [
    "#基本函数\n",
    "import turtle\n",
    "bob = turtle.Turtle()\n",
    "bob.fd(100)\n",
    "bob.lt(90)\n",
    "bob.fd(100)\n",
    "print(bob)\n",
    "turtle.mainloop()"
   ]
  },
  {
   "cell_type": "code",
   "execution_count": 15,
   "metadata": {
    "collapsed": false
   },
   "outputs": [
    {
     "name": "stdout",
     "output_type": "stream",
     "text": [
      "<turtle.Turtle object at 0x000002007611F6A0>\n"
     ]
    }
   ],
   "source": [
    "import turtle\n",
    "bob = turtle.Turtle()\n",
    "for i in range(4):\n",
    "    bob.fd(100)\n",
    "    bob.lt(90)\n",
    "print(bob)\n",
    "turtle.mainloop()"
   ]
  },
  {
   "cell_type": "code",
   "execution_count": 8,
   "metadata": {
    "collapsed": false
   },
   "outputs": [
    {
     "name": "stdout",
     "output_type": "stream",
     "text": [
      "<turtle.Turtle object at 0x000001D4D476BF28>\n"
     ]
    }
   ],
   "source": [
    "#泛化长度\n",
    "import turtle\n",
    "bob = turtle.Turtle()\n",
    "def square(t,length):\n",
    "    for i in range(4):\n",
    "        t.fd(length)\n",
    "        t.lt(90)\n",
    "    print(t)\n",
    "square(bob,200)    \n",
    "turtle.mainloop()  "
   ]
  },
  {
   "cell_type": "code",
   "execution_count": null,
   "metadata": {
    "collapsed": false
   },
   "outputs": [
    {
     "name": "stdout",
     "output_type": "stream",
     "text": [
      "<turtle.Turtle object at 0x000001D4D360BA58>\n"
     ]
    }
   ],
   "source": [
    "#泛化多边形数\n",
    "import turtle\n",
    "bob = turtle.Turtle()\n",
    "def polygon(t,length,n):\n",
    "    for i in range(n):\n",
    "        t.fd(length)\n",
    "        t.lt(360/n)\n",
    "    print(t)\n",
    "polygon(bob,150,6)    \n",
    "turtle.mainloop()  "
   ]
  },
  {
   "cell_type": "code",
   "execution_count": 21,
   "metadata": {
    "collapsed": false
   },
   "outputs": [
    {
     "name": "stdout",
     "output_type": "stream",
     "text": [
      "<turtle.Turtle object at 0x000001EEAA0112B0>\n"
     ]
    }
   ],
   "source": [
    "#泛化圆的半径\n",
    "import turtle\n",
    "import math\n",
    "bob = turtle.Turtle()\n",
    "def polygon(t,length,n):\n",
    "    for i in range(n):\n",
    "        t.fd(length)\n",
    "        t.lt(360/n)\n",
    "    print(t)\n",
    "def circle(t,r): \n",
    "    c = 2*math.pi*r\n",
    "    n = int(c/3)+1\n",
    "    length = c/n\n",
    "    polygon(t,length,n)   \n",
    "circle(bob,150)\n",
    "turtle.mainloop() "
   ]
  },
  {
   "cell_type": "code",
   "execution_count": null,
   "metadata": {
    "collapsed": false
   },
   "outputs": [
    {
     "name": "stdout",
     "output_type": "stream",
     "text": [
      "<turtle.Turtle object at 0x000001EEAA011F60>\n"
     ]
    }
   ],
   "source": [
    "#泛化圆的角度\n",
    "import turtle\n",
    "import math\n",
    "bob = turtle.Turtle()\n",
    "def polyline(t,length,n,arc):\n",
    "    for i in range(n):\n",
    "        t.fd(length)\n",
    "        t.lt(arc/n)\n",
    "    print(t)\n",
    "def circle(t,r,arc): \n",
    "    c = 2*math.pi*r\n",
    "    n = int(c/3)+1\n",
    "    length = c/n\n",
    "    polyline(t,length,n,arc)   \n",
    "circle(bob,50,90)\n",
    "turtle.mainloop() "
   ]
  },
  {
   "cell_type": "code",
   "execution_count": null,
   "metadata": {
    "collapsed": true
   },
   "outputs": [],
   "source": []
  }
 ],
 "metadata": {
  "anaconda-cloud": {},
  "kernelspec": {
   "display_name": "Python [default]",
   "language": "python",
   "name": "python3"
  },
  "language_info": {
   "codemirror_mode": {
    "name": "ipython",
    "version": 3
   },
   "file_extension": ".py",
   "mimetype": "text/x-python",
   "name": "python",
   "nbconvert_exporter": "python",
   "pygments_lexer": "ipython3",
   "version": "3.5.2"
  }
 },
 "nbformat": 4,
 "nbformat_minor": 1
}
