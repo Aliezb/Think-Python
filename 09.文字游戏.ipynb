{
 "cells": [
  {
   "cell_type": "code",
   "execution_count": 4,
   "metadata": {
    "collapsed": false
   },
   "outputs": [
    {
     "name": "stdout",
     "output_type": "stream",
     "text": [
      "counterdemonstrations\n",
      "\n",
      "counterdemonstrators\n",
      "\n",
      "hypersensitivenesses\n",
      "\n",
      "microminiaturization\n",
      "\n",
      "representativenesses\n",
      "\n"
     ]
    }
   ],
   "source": [
    "#9-1\n",
    "fin = open('words.txt')\n",
    "for line in fin:\n",
    "    word = fin.readline()\n",
    "    if len(word)>20:\n",
    "        print(word)"
   ]
  },
  {
   "cell_type": "code",
   "execution_count": 41,
   "metadata": {
    "collapsed": false
   },
   "outputs": [
    {
     "name": "stdout",
     "output_type": "stream",
     "text": [
      "False\n"
     ]
    }
   ],
   "source": [
    "def has_no_e(word):\n",
    "    count = 0\n",
    "    for letter in word:\n",
    "        if letter == 'e':\n",
    "            count = count+1\n",
    "    if count == 0:\n",
    "        return True\n",
    "    else :\n",
    "        return False\n",
    "print((has_no_e(\"berry\")) and 1) "
   ]
  },
  {
   "cell_type": "code",
   "execution_count": 44,
   "metadata": {
    "collapsed": false
   },
   "outputs": [
    {
     "name": "stdout",
     "output_type": "stream",
     "text": [
      "microminiaturization\n",
      "\n"
     ]
    }
   ],
   "source": [
    "#9-2\n",
    "def has_no_e(word):\n",
    "    count = 0\n",
    "    for letter in word:\n",
    "        if letter == 'e':\n",
    "            count = count+1\n",
    "    if count == 0:\n",
    "        return 1\n",
    "    else :\n",
    "        return 0\n",
    "fin = open('words.txt')\n",
    "for line in fin:\n",
    "    word = fin.readline()\n",
    "    if len(word)>20 and has_no_e(word):\n",
    "        print(word)"
   ]
  },
  {
   "cell_type": "code",
   "execution_count": 15,
   "metadata": {
    "collapsed": false
   },
   "outputs": [
    {
     "data": {
      "text/plain": [
       "True"
      ]
     },
     "execution_count": 15,
     "metadata": {},
     "output_type": "execute_result"
    }
   ],
   "source": [
    "#9-3\n",
    "def avoids(avoid_str,word):\n",
    "    count = 0\n",
    "    for i in range(len(avoid_str)):\n",
    "        if avoid_str[i] in word:\n",
    "            count = count+1\n",
    "    if count == 0:\n",
    "        return True\n",
    "    else :\n",
    "        return False\n",
    "avoids('df','abc')"
   ]
  },
  {
   "cell_type": "code",
   "execution_count": 76,
   "metadata": {
    "collapsed": false
   },
   "outputs": [
    {
     "data": {
      "text/plain": [
       "False"
      ]
     },
     "execution_count": 76,
     "metadata": {},
     "output_type": "execute_result"
    }
   ],
   "source": [
    "#9-4\n",
    "def uses_only(uses_str,word):\n",
    "    count = 0\n",
    "    for i in range(len(word)):\n",
    "        if word[i] not in uses_str:\n",
    "            count += 1\n",
    "    if count == 0:\n",
    "        return True\n",
    "    else :\n",
    "        return False\n",
    "uses_only('ab','abc')"
   ]
  },
  {
   "cell_type": "code",
   "execution_count": 13,
   "metadata": {
    "collapsed": false
   },
   "outputs": [
    {
     "name": "stdout",
     "output_type": "stream",
     "text": [
      "22\n"
     ]
    }
   ],
   "source": [
    "#9-5\n",
    "def uses_all(uses_str,word):\n",
    "    count = 0\n",
    "    for i in range(len(uses_str)):\n",
    "        if uses_str[i] in word:\n",
    "            count += 1\n",
    "    if count == len(uses_str):\n",
    "        return 1\n",
    "    else :\n",
    "        return 0\n",
    "uses_all('aeiou','abcadc')\n",
    "fin = open('words.txt')\n",
    "num = 0\n",
    "for line in fin:\n",
    "    word = fin.readline()\n",
    "    if uses_all('aeiouy',word):\n",
    "        num += 1\n",
    "print(num)"
   ]
  },
  {
   "cell_type": "code",
   "execution_count": 13,
   "metadata": {
    "collapsed": false
   },
   "outputs": [
    {
     "data": {
      "text/plain": [
       "True"
      ]
     },
     "execution_count": 13,
     "metadata": {},
     "output_type": "execute_result"
    }
   ],
   "source": [
    "#9-6\n",
    "def is_shunxu(word):\n",
    "    count = 0\n",
    "    for i in range(len(word)-1):\n",
    "        if word[i] > word[i+1]:\n",
    "            count += 1\n",
    "    if not count:\n",
    "        return True\n",
    "    return False\n",
    "is_shunxu('aht')"
   ]
  },
  {
   "cell_type": "code",
   "execution_count": 31,
   "metadata": {
    "collapsed": false
   },
   "outputs": [
    {
     "name": "stdout",
     "output_type": "stream",
     "text": [
      "bookkeepers\n",
      "\n",
      "bookkeepings\n",
      "\n"
     ]
    }
   ],
   "source": [
    "def look(word):\n",
    "    for i in range (len(word)-5):\n",
    "        if word[i] == word[i+1] and word[i+2] == word[i+3] and word[i+4] == word[i+5]:\n",
    "            print(word)     \n",
    "fin = open('words.txt')\n",
    "num = 0\n",
    "for line in fin:\n",
    "    word = fin.readline()\n",
    "    if look(word):\n",
    "        num += 1\n",
    "        print(num)"
   ]
  },
  {
   "cell_type": "code",
   "execution_count": null,
   "metadata": {
    "collapsed": true
   },
   "outputs": [],
   "source": []
  }
 ],
 "metadata": {
  "anaconda-cloud": {},
  "kernelspec": {
   "display_name": "Python [default]",
   "language": "python",
   "name": "python3"
  },
  "language_info": {
   "codemirror_mode": {
    "name": "ipython",
    "version": 3
   },
   "file_extension": ".py",
   "mimetype": "text/x-python",
   "name": "python",
   "nbconvert_exporter": "python",
   "pygments_lexer": "ipython3",
   "version": "3.5.2"
  }
 },
 "nbformat": 4,
 "nbformat_minor": 1
}
