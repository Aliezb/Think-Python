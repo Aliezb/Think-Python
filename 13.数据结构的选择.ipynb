{
 "cells": [
  {
   "cell_type": "code",
   "execution_count": null,
   "metadata": {
    "collapsed": true
   },
   "outputs": [],
   "source": [
    "#文件的基本操作\n",
    "fin = open('test.txt')\n",
    "line = fin.readline()"
   ]
  },
  {
   "cell_type": "code",
   "execution_count": 10,
   "metadata": {
    "collapsed": false,
    "scrolled": true
   },
   "outputs": [
    {
     "name": "stdout",
     "output_type": "stream",
     "text": [
      "The key challenge of face recognition is to develop effective feature representations for reducing intra-personal \n",
      "The key challenge of face recognition is to develop effective feature representations for reducing intrapersonal \n",
      "the key challenge of face recognition is to develop effective feature representations for reducing intrapersonal \n"
     ]
    }
   ],
   "source": [
    "import string\n",
    "\n",
    "fin = open('test.txt')\n",
    "line = fin.readline()\n",
    "print(line)\n",
    "line = line.replace('-','')\n",
    "print(line)\n",
    "line = line.lower()\n",
    "print(line)"
   ]
  },
  {
   "cell_type": "code",
   "execution_count": 71,
   "metadata": {
    "collapsed": false,
    "scrolled": true
   },
   "outputs": [
    {
     "name": "stdout",
     "output_type": "stream",
     "text": [
      "15\n"
     ]
    }
   ],
   "source": [
    "import string\n",
    "def process_file(filename):\n",
    "    hist = dict()\n",
    "    fp = open(filename)\n",
    "    for line in fp:\n",
    "        process_line(line,hist)\n",
    "    return hist\n",
    "\n",
    "def process_line(line,hist):\n",
    "    line = line.replace('-','')\n",
    "    \n",
    "    for word in line.split():\n",
    "        word = word.strip(string.punctuation + string.whitespace)\n",
    "        word = word.lower()\n",
    "        hist[word] = hist.get(word,0) + 1\n",
    "        \n",
    "hist = process_file('abstract.txt')\n",
    "def total_words(hist):\n",
    "    return sum(hist.values())\n",
    "print(total_words(hist))"
   ]
  },
  {
   "cell_type": "code",
   "execution_count": null,
   "metadata": {
    "collapsed": true
   },
   "outputs": [],
   "source": []
  }
 ],
 "metadata": {
  "anaconda-cloud": {},
  "kernelspec": {
   "display_name": "Python [default]",
   "language": "python",
   "name": "python3"
  },
  "language_info": {
   "codemirror_mode": {
    "name": "ipython",
    "version": 3
   },
   "file_extension": ".py",
   "mimetype": "text/x-python",
   "name": "python",
   "nbconvert_exporter": "python",
   "pygments_lexer": "ipython3",
   "version": "3.5.2"
  }
 },
 "nbformat": 4,
 "nbformat_minor": 1
}
