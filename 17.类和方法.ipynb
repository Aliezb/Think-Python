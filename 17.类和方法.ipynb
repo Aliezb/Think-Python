{
 "cells": [
  {
   "cell_type": "code",
   "execution_count": 2,
   "metadata": {
    "collapsed": false
   },
   "outputs": [
    {
     "data": {
      "text/plain": [
       "1210"
      ]
     },
     "execution_count": 2,
     "metadata": {},
     "output_type": "execute_result"
    }
   ],
   "source": [
    "class Time:\n",
    "    def time_to_int(self):\n",
    "        minutes = self.hour*60 + self.minute\n",
    "        seconds = minutes*60 + self.second\n",
    "        return seconds\n",
    "now = Time()\n",
    "now.hour = 0\n",
    "now.minute = 20\n",
    "now.second = 10\n",
    "now.time_to_int()"
   ]
  },
  {
   "cell_type": "code",
   "execution_count": 10,
   "metadata": {
    "collapsed": false
   },
   "outputs": [
    {
     "name": "stdout",
     "output_type": "stream",
     "text": [
      "(5,0)\n"
     ]
    }
   ],
   "source": [
    "class Point:\n",
    "    \"\"\"定义一个2D空间\"\"\"\n",
    "    def __init__(self,x = 0,y = 0):\n",
    "        self.x = x\n",
    "        self.y = y\n",
    "    def print_point(point):\n",
    "        print('(%d,%d)' % (point.x,point.y))\n",
    "point = Point(5)\n",
    "point.print_point()"
   ]
  },
  {
   "cell_type": "code",
   "execution_count": 18,
   "metadata": {
    "collapsed": false
   },
   "outputs": [
    {
     "name": "stdout",
     "output_type": "stream",
     "text": [
      "(8,9)\n"
     ]
    }
   ],
   "source": [
    "class Point:\n",
    "    \"\"\"定义一个2D空间\"\"\"\n",
    "    def __init__(self,x = 0,y = 0):\n",
    "        self.x = x\n",
    "        self.y = y\n",
    "    def __str__(self):\n",
    "        return '(%d,%d)' % (self.x,self.y)\n",
    "    def __add__(self,other):\n",
    "        point = Point()\n",
    "        point.x = self.x + other.x\n",
    "        point.y = self.y + other.y\n",
    "        return point\n",
    "point1 = Point(5,2)\n",
    "point2 = Point(3,7)\n",
    "print(point1 + point2)"
   ]
  },
  {
   "cell_type": "code",
   "execution_count": 4,
   "metadata": {
    "collapsed": false
   },
   "outputs": [
    {
     "name": "stdout",
     "output_type": "stream",
     "text": [
      "(6,4)\n"
     ]
    }
   ],
   "source": [
    "class Point:\n",
    "    \"\"\"定义一个2D空间\"\"\"\n",
    "    def __init__(self,x = 0,y = 0):\n",
    "        self.x = x\n",
    "        self.y = y\n",
    "    def __str__(self):\n",
    "        return '(%d,%d)' % (self.x,self.y)\n",
    "    def __add__(self,other):\n",
    "        if isinstance(other,Point):\n",
    "            return self.add_point(other)\n",
    "        else:\n",
    "            return self.add_turple(other)\n",
    "    def add_point(self,other):\n",
    "        point = Point()\n",
    "        point.x = self.x + other.x\n",
    "        point.y = self.y + other.y\n",
    "        return point\n",
    "    def add_turple(self,other):\n",
    "        point = Point()\n",
    "        point.x = self.x + other[0]\n",
    "        point.y = self.y + other[1]\n",
    "        return point        \n",
    "point1 = Point(5,2)\n",
    "turple = (1,2)\n",
    "print(point1 + turple)"
   ]
  },
  {
   "cell_type": "code",
   "execution_count": null,
   "metadata": {
    "collapsed": true
   },
   "outputs": [],
   "source": []
  }
 ],
 "metadata": {
  "anaconda-cloud": {},
  "kernelspec": {
   "display_name": "Python [default]",
   "language": "python",
   "name": "python3"
  },
  "language_info": {
   "codemirror_mode": {
    "name": "ipython",
    "version": 3
   },
   "file_extension": ".py",
   "mimetype": "text/x-python",
   "name": "python",
   "nbconvert_exporter": "python",
   "pygments_lexer": "ipython3",
   "version": "3.5.2"
  }
 },
 "nbformat": 4,
 "nbformat_minor": 1
}
