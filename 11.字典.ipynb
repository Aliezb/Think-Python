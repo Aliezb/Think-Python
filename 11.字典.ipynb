{
 "cells": [
  {
   "cell_type": "code",
   "execution_count": 3,
   "metadata": {
    "collapsed": false
   },
   "outputs": [
    {
     "name": "stdout",
     "output_type": "stream",
     "text": [
      "{'two': '2', 'one': '1'}\n"
     ]
    }
   ],
   "source": [
    "t = dict()\n",
    "t['one'] = '1'\n",
    "t['two'] = '2'\n",
    "print(t)"
   ]
  },
  {
   "cell_type": "code",
   "execution_count": 2,
   "metadata": {
    "collapsed": false
   },
   "outputs": [
    {
     "name": "stdout",
     "output_type": "stream",
     "text": [
      "{'two': '2', 'one': '1', 'three': '3'}\n",
      "dict_values(['2', '1', '3'])\n"
     ]
    }
   ],
   "source": [
    "t = {'two': '2', 'one': '1','three':'3'}\n",
    "vals = t.values()\n",
    "print(t)\n",
    "print(vals)"
   ]
  },
  {
   "cell_type": "code",
   "execution_count": 10,
   "metadata": {
    "collapsed": false
   },
   "outputs": [
    {
     "name": "stdout",
     "output_type": "stream",
     "text": [
      "Running time: 5.2906651603734645e-05 Seconds\n"
     ]
    }
   ],
   "source": [
    "#10-1\n",
    "import time\n",
    "fin = open('words.txt')\n",
    "v = dict()\n",
    "for line in fin:\n",
    "    v[line.strip()] = 1\n",
    "    \n",
    "start = time.clock()\n",
    "'thy' in v\n",
    "end = time.clock()\n",
    "\n",
    "print('Running time: %s Seconds'%(end-start))"
   ]
  },
  {
   "cell_type": "code",
   "execution_count": null,
   "metadata": {
    "collapsed": true
   },
   "outputs": [],
   "source": []
  }
 ],
 "metadata": {
  "anaconda-cloud": {},
  "kernelspec": {
   "display_name": "Python [default]",
   "language": "python",
   "name": "python3"
  },
  "language_info": {
   "codemirror_mode": {
    "name": "ipython",
    "version": 3
   },
   "file_extension": ".py",
   "mimetype": "text/x-python",
   "name": "python",
   "nbconvert_exporter": "python",
   "pygments_lexer": "ipython3",
   "version": "3.5.2"
  }
 },
 "nbformat": 4,
 "nbformat_minor": 1
}
